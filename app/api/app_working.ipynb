{
 "cells": [
  {
   "cell_type": "code",
   "execution_count": 2,
   "metadata": {},
   "outputs": [],
   "source": [
    "from database import Database\n",
    "from youtube import YouTube\n",
    "\n",
    "channel_id = 'UCtinbF-Q-fVthA0qrFQTgXQ'\n",
    "db = Database('desktop', 'cs_test_4')\n",
    "yt = YouTube()"
   ]
  },
  {
   "cell_type": "code",
   "execution_count": 2,
   "metadata": {},
   "outputs": [],
   "source": [
    "channel = yt.channel(channel_id)\n",
    "for key in channel:\n",
    "    print(key, ': ', channel[key])\n",
    "msg = db.set_channel(channel_id, channel)\n",
    "print(msg)"
   ]
  },
  {
   "cell_type": "code",
   "execution_count": 2,
   "metadata": {},
   "outputs": [
    {
     "name": "stdout",
     "output_type": "stream",
     "text": [
      "my brother Van\n",
      "Who I&#39;m Voting For 2020\n",
      "the SURPRISE of her life!!!\n",
      "it&#39;s time to say NO!\n",
      "ARTIFICIAL INTELLIGENCE DRONE! it won&#39;t stop following me\n",
      "World&#39;s Biggest KOOK\n",
      "if she leaves me, this is why\n",
      "i made this video in a Wal Mart\n",
      "kite surfing idiot nearly cut my feet off\n",
      "sharing the truth of our marriage\n"
     ]
    }
   ],
   "source": [
    "videos = yt.videos(channel_id)\n",
    "for video in videos['videos'][:10]:\n",
    "    print(video['title'])\n",
    "    db.set_video(video['id'], video)"
   ]
  },
  {
   "cell_type": "code",
   "execution_count": 3,
   "metadata": {},
   "outputs": [
    {
     "name": "stdout",
     "output_type": "stream",
     "text": [
      "id :  HgYVuXaihNs\n",
      "title :  my brother Van\n",
      "thumbnail :  https://i.ytimg.com/vi/HgYVuXaihNs/mqdefault.jpg\n",
      "published :  2021-03-09T22:30:43Z\n",
      "db_comments :  0\n"
     ]
    }
   ],
   "source": [
    "videos = db.get_videos(channel_id)\n",
    "video = videos['videos'][0]\n",
    "video_id = video['id']\n",
    "for key in video:\n",
    "    print(key, \": \", video[key])"
   ]
  },
  {
   "cell_type": "code",
   "execution_count": 4,
   "metadata": {},
   "outputs": [
    {
     "name": "stdout",
     "output_type": "stream",
     "text": [
      "Van&#39;s first video..  its really good.  its technically just a trailer for hi\n",
      "@caseyneistat...you really should consider NOT making videos. I have no clue how\n",
      "Love the channel.\n",
      "Why your video watch nit coming  huh???\n",
      "I got you bro\n",
      "Speaking of videos you don&#39;t seem to do them anymore.\n",
      "this is like finding out about aberforth dumbledore\n",
      "I recognize the name yet I don’t know him ok wait wtf I just mixed up dumbledore\n",
      "no spoilers please\n",
      "@Jordan Pike I am a Small Youtuber from the Philippines. I hope those who can re\n"
     ]
    }
   ],
   "source": [
    "comments = yt.comments(channel_id, video_id)\n",
    "for c in comments['comments'][:10]:\n",
    "    print(c['text'][:80])"
   ]
  },
  {
   "cell_type": "code",
   "execution_count": 5,
   "metadata": {},
   "outputs": [],
   "source": [
    "for c in comments['comments']:\n",
    "    db.set_comment(c['id'], c)"
   ]
  },
  {
   "cell_type": "code",
   "execution_count": 12,
   "metadata": {},
   "outputs": [
    {
     "name": "stdout",
     "output_type": "stream",
     "text": [
      "id :  Ugwb-4NVF8arAQyCb0R4AaABAg\n",
      "video_id :  HgYVuXaihNs\n",
      "channel_id :  UCtinbF-Q-fVthA0qrFQTgXQ\n",
      "author :  Luciano Lisiotti\n",
      "published :  2021-03-20T12:51:12Z\n",
      "created :  2021-08-06 19:08:37\n",
      "text :  Finally, the Brother Love you guys deserve!<br><br>Happy to see you guys connected!\n",
      "likes :  0\n",
      "parent :  None\n",
      "n_children :  0\n",
      "last_scan :  2021-08-06 19:08:33.785520\n",
      "topics :  None\n",
      "sentiment :  None\n",
      "last_refresh :  None\n"
     ]
    }
   ],
   "source": [
    "comment_id = \"Ugwb-4NVF8arAQyCb0R4AaABAg\"\n",
    "comment = db.get_comment(comment_id)\n",
    "c = comment['comment']\n",
    "for key in c:\n",
    "    print(key, \": \", c[key])"
   ]
  },
  {
   "cell_type": "code",
   "execution_count": 4,
   "metadata": {},
   "outputs": [
    {
     "name": "stdout",
     "output_type": "stream",
     "text": [
      "id :  HgYVuXaihNs\n",
      "title :  my brother Van\n",
      "thumbnail :  https://i.ytimg.com/vi/HgYVuXaihNs/mqdefault.jpg\n",
      "channel_id :  UCtinbF-Q-fVthA0qrFQTgXQ\n",
      "channel_title :  CaseyNeistat\n",
      "published :  09 March, 2021\n",
      "views :  2167351\n",
      "likes :  100243\n",
      "dislikes :  1687\n",
      "total_comments :  6772\n"
     ]
    }
   ],
   "source": [
    "video_id = 'HgYVuXaihNs'\n",
    "video = yt.video(video_id)\n",
    "for key in video:\n",
    "    print(key, \": \", video[key])"
   ]
  },
  {
   "cell_type": "code",
   "execution_count": 9,
   "metadata": {},
   "outputs": [
    {
     "data": {
      "text/plain": [
       "{'status': 'Updated video successfully.'}"
      ]
     },
     "execution_count": 9,
     "metadata": {},
     "output_type": "execute_result"
    }
   ],
   "source": [
    "db.set_video(video_id, video)"
   ]
  },
  {
   "cell_type": "code",
   "execution_count": 11,
   "metadata": {},
   "outputs": [
    {
     "name": "stdout",
     "output_type": "stream",
     "text": [
      "id :  HgYVuXaihNs\n",
      "title :  my brother Van\n",
      "thumbnail :  https://i.ytimg.com/vi/HgYVuXaihNs/mqdefault.jpg\n",
      "channel_id :  UCtinbF-Q-fVthA0qrFQTgXQ\n",
      "published :  09 March, 2021\n",
      "created :  2021-08-06 18:57:48\n",
      "total_comments :  6772\n",
      "db_comments :  0\n",
      "next_page_token :  None\n",
      "last_scan :  None\n",
      "topics :  None\n",
      "last_refresh :  None\n"
     ]
    }
   ],
   "source": [
    "db_video = db.get_video(video_id)\n",
    "for key in db_video['video']:\n",
    "    print(key, \": \", db_video['video'][key])"
   ]
  },
  {
   "cell_type": "code",
   "execution_count": null,
   "metadata": {},
   "outputs": [],
   "source": []
  }
 ],
 "metadata": {
  "kernelspec": {
   "display_name": "cs",
   "language": "python",
   "name": "cs"
  },
  "language_info": {
   "codemirror_mode": {
    "name": "ipython",
    "version": 3
   },
   "file_extension": ".py",
   "mimetype": "text/x-python",
   "name": "python",
   "nbconvert_exporter": "python",
   "pygments_lexer": "ipython3",
   "version": "3.8.5"
  }
 },
 "nbformat": 4,
 "nbformat_minor": 4
}
